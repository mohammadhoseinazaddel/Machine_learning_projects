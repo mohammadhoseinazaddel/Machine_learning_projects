{
  "cells": [
    {
      "cell_type": "markdown",
      "source": [
        "روی دیتای\n",
        "\n",
        "cardio_train1\n",
        "\n",
        "شبکه عمیق خود را به صورت های\n",
        "\n",
        "sequentional functional classbase\n",
        "\n",
        "و تیون کردن هایپر پارمتر ها ترین کنید\n",
        "\n",
        "1- حتما تنسور بورد داشته باشد و به صورت یک لینک داده شود\n",
        "\n",
        "2-EarlyStopping\n",
        "\n",
        "3-  در ابتدای هر ایپاک شماره ایپاک و مقدار لاس را در متن زیر پرینت کند\n",
        "\n",
        "in ... epoch loss is ...\n"
      ],
      "metadata": {
        "id": "wrURYh0RF7Qc"
      }
    },
    {
      "cell_type": "markdown",
      "source": [
        "linux\n",
        "\n",
        "1- با چه دستوری مسیر پایتون را پیدا کنیم\n",
        "\n",
        "\n",
        "\n",
        "2- با چه دستوری از نوع فایل مطمین میشبم\n",
        "\n",
        "\n",
        "\n",
        "3-منظور از اعداد نشان داده شده بعد از زدت دستور زیر چیست\n",
        "\n",
        "\n",
        "\n",
        "4- دستوری که دایرکتوری بسازد که درون آن یک دایرکتوری دیگر هم هست\n",
        "\n",
        "\n",
        "\n",
        "5- با چه دستوری فایل بالا را به صورت ریکرسیو پاک می کنید\n",
        "\n",
        "\n",
        "\n",
        "6- با چه کامتد هایی میتوان فایل را خواند \n",
        "\n",
        "\n",
        "\n",
        "7- برای تعقیب تعییرات یک فایل چه دستوری را پیشنهاد میدهید\n",
        "\n",
        "\n",
        "8- معادل دستورپرینت در بش چیست \n",
        "\n"
      ],
      "metadata": {
        "id": "iQOlJypPLioI"
      }
    },
    {
      "cell_type": "code",
      "source": [],
      "metadata": {
        "id": "PauCK6aWR6uf"
      },
      "execution_count": null,
      "outputs": []
    }
  ],
  "metadata": {
    "kernelspec": {
      "display_name": "Python 3",
      "language": "python",
      "name": "python3"
    },
    "language_info": {
      "codemirror_mode": {
        "name": "ipython",
        "version": 3
      },
      "file_extension": ".py",
      "mimetype": "text/x-python",
      "name": "python",
      "nbconvert_exporter": "python",
      "pygments_lexer": "ipython3",
      "version": "3.7.6"
    },
    "colab": {
      "provenance": []
    }
  },
  "nbformat": 4,
  "nbformat_minor": 0
}